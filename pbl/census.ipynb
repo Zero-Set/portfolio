{
 "cells": [
  {
   "source": [
    "# 国勢調査データの加工\n",
    "\n",
    "- 加工データセット：国勢調査 / 都道府県・市区町村別統計表（国勢調査） / 都道府県・市区町村別統計表（男女別人口，年齢３区分・割合，就業者，昼間人口など）\n",
    "- URL:https://www.e-stat.go.jp/stat-search/files?page=1&layout=datalist&toukei=00200521&tstat=000001049104&cycle=0&tclass1=000001049105&stat_infid=000031594311&tclass2val=0\n",
    "\n",
    "- 目的:上記データを都道府県別と市町村別に分離する。\n",
    "- インプット、アウトプットのファイルは保存しません。"
   ],
   "cell_type": "markdown",
   "metadata": {}
  },
  {
   "cell_type": "code",
   "execution_count": 1,
   "metadata": {},
   "outputs": [],
   "source": [
    "# ライブラリの読み込み\n",
    "import numpy as np\n",
    "import pandas as pd"
   ]
  },
  {
   "cell_type": "code",
   "execution_count": 3,
   "metadata": {},
   "outputs": [
    {
     "output_type": "execute_result",
     "data": {
      "text/plain": [
       "     都道府県市町村コード 都道府県      市町村         人口  人口密度（人/km2）     平均年齢   生産人口割合  \\\n",
       "0         00000   全国       全国  127094745        340.8  46.3979  60.7196   \n",
       "1         01000  北海道      北海道    5381733         68.6  48.2688  59.5578   \n",
       "2         01100  北海道      札幌市    1952356       1741.2  46.2126  63.6843   \n",
       "3         01101  北海道  札幌市 中央区     237627       5119.1  44.9858  68.2665   \n",
       "4         01102  北海道   札幌市 北区     285321       4488.3  45.6165  63.7227   \n",
       "...         ...  ...      ...        ...          ...      ...      ...   \n",
       "1960      47361  沖縄県     久米島町       7755        121.8  47.2796  57.7792   \n",
       "1961      47362  沖縄県     八重瀬町      29066       1078.1   41.686  62.2456   \n",
       "1962      47375  沖縄県     多良間村       1194         54.3  46.4271  56.1977   \n",
       "1963      47381  沖縄県      竹富町       3998         12.0  43.6946  62.5538   \n",
       "1964      47382  沖縄県     与那国町       1843         63.6  45.6183  68.9636   \n",
       "\n",
       "         高齢化率  \n",
       "0     26.6358  \n",
       "1      29.088  \n",
       "2     24.9236  \n",
       "3     21.5164  \n",
       "4     24.5561  \n",
       "...       ...  \n",
       "1960  26.4945  \n",
       "1961  19.3869  \n",
       "1962  26.3819  \n",
       "1963  20.2179  \n",
       "1964  18.5024  \n",
       "\n",
       "[1965 rows x 8 columns]"
      ],
      "text/html": "<div>\n<style scoped>\n    .dataframe tbody tr th:only-of-type {\n        vertical-align: middle;\n    }\n\n    .dataframe tbody tr th {\n        vertical-align: top;\n    }\n\n    .dataframe thead th {\n        text-align: right;\n    }\n</style>\n<table border=\"1\" class=\"dataframe\">\n  <thead>\n    <tr style=\"text-align: right;\">\n      <th></th>\n      <th>都道府県市町村コード</th>\n      <th>都道府県</th>\n      <th>市町村</th>\n      <th>人口</th>\n      <th>人口密度（人/km2）</th>\n      <th>平均年齢</th>\n      <th>生産人口割合</th>\n      <th>高齢化率</th>\n    </tr>\n  </thead>\n  <tbody>\n    <tr>\n      <th>0</th>\n      <td>00000</td>\n      <td>全国</td>\n      <td>全国</td>\n      <td>127094745</td>\n      <td>340.8</td>\n      <td>46.3979</td>\n      <td>60.7196</td>\n      <td>26.6358</td>\n    </tr>\n    <tr>\n      <th>1</th>\n      <td>01000</td>\n      <td>北海道</td>\n      <td>北海道</td>\n      <td>5381733</td>\n      <td>68.6</td>\n      <td>48.2688</td>\n      <td>59.5578</td>\n      <td>29.088</td>\n    </tr>\n    <tr>\n      <th>2</th>\n      <td>01100</td>\n      <td>北海道</td>\n      <td>札幌市</td>\n      <td>1952356</td>\n      <td>1741.2</td>\n      <td>46.2126</td>\n      <td>63.6843</td>\n      <td>24.9236</td>\n    </tr>\n    <tr>\n      <th>3</th>\n      <td>01101</td>\n      <td>北海道</td>\n      <td>札幌市 中央区</td>\n      <td>237627</td>\n      <td>5119.1</td>\n      <td>44.9858</td>\n      <td>68.2665</td>\n      <td>21.5164</td>\n    </tr>\n    <tr>\n      <th>4</th>\n      <td>01102</td>\n      <td>北海道</td>\n      <td>札幌市 北区</td>\n      <td>285321</td>\n      <td>4488.3</td>\n      <td>45.6165</td>\n      <td>63.7227</td>\n      <td>24.5561</td>\n    </tr>\n    <tr>\n      <th>...</th>\n      <td>...</td>\n      <td>...</td>\n      <td>...</td>\n      <td>...</td>\n      <td>...</td>\n      <td>...</td>\n      <td>...</td>\n      <td>...</td>\n    </tr>\n    <tr>\n      <th>1960</th>\n      <td>47361</td>\n      <td>沖縄県</td>\n      <td>久米島町</td>\n      <td>7755</td>\n      <td>121.8</td>\n      <td>47.2796</td>\n      <td>57.7792</td>\n      <td>26.4945</td>\n    </tr>\n    <tr>\n      <th>1961</th>\n      <td>47362</td>\n      <td>沖縄県</td>\n      <td>八重瀬町</td>\n      <td>29066</td>\n      <td>1078.1</td>\n      <td>41.686</td>\n      <td>62.2456</td>\n      <td>19.3869</td>\n    </tr>\n    <tr>\n      <th>1962</th>\n      <td>47375</td>\n      <td>沖縄県</td>\n      <td>多良間村</td>\n      <td>1194</td>\n      <td>54.3</td>\n      <td>46.4271</td>\n      <td>56.1977</td>\n      <td>26.3819</td>\n    </tr>\n    <tr>\n      <th>1963</th>\n      <td>47381</td>\n      <td>沖縄県</td>\n      <td>竹富町</td>\n      <td>3998</td>\n      <td>12.0</td>\n      <td>43.6946</td>\n      <td>62.5538</td>\n      <td>20.2179</td>\n    </tr>\n    <tr>\n      <th>1964</th>\n      <td>47382</td>\n      <td>沖縄県</td>\n      <td>与那国町</td>\n      <td>1843</td>\n      <td>63.6</td>\n      <td>45.6183</td>\n      <td>68.9636</td>\n      <td>18.5024</td>\n    </tr>\n  </tbody>\n</table>\n<p>1965 rows × 8 columns</p>\n</div>"
     },
     "metadata": {},
     "execution_count": 3
    }
   ],
   "source": [
    "# ファイルの読み込みと結果の表示\n",
    "df = pd.read_excel(\n",
    "    '2015.xls',         \n",
    "    usecols=[1,6,7,8,13,14,21,22],\n",
    "    names=[\n",
    "        '都道府県市町村コード',\n",
    "        '都道府県',\n",
    "        '市町村',\n",
    "        '人口',\n",
    "        '人口密度（人/km2）',\n",
    "        '平均年齢',\n",
    "        '生産人口割合',\n",
    "        '高齢化率'\n",
    "    ],\n",
    "    dtype={'都道府県市町村コード':'object'},\n",
    "    skiprows=10\n",
    ")\n",
    "df"
   ]
  },
  {
   "cell_type": "code",
   "execution_count": 6,
   "metadata": {},
   "outputs": [
    {
     "output_type": "execute_result",
     "data": {
      "text/plain": [
       "     都道府県市町村コード 都道府県      市町村         人口  人口密度（人/km2）     平均年齢   生産人口割合  \\\n",
       "0         00000   全国       全国  127094745        340.8  46.3979  60.7196   \n",
       "1         01000  北海道      北海道    5381733         68.6  48.2688  59.5578   \n",
       "2         01100  北海道      札幌市    1952356       1741.2  46.2126  63.6843   \n",
       "3         01101  北海道  札幌市 中央区     237627       5119.1  44.9858  68.2665   \n",
       "4         01102  北海道   札幌市 北区     285321       4488.3  45.6165  63.7227   \n",
       "...         ...  ...      ...        ...          ...      ...      ...   \n",
       "1960      47361  沖縄県     久米島町       7755        121.8  47.2796  57.7792   \n",
       "1961      47362  沖縄県     八重瀬町      29066       1078.1   41.686  62.2456   \n",
       "1962      47375  沖縄県     多良間村       1194         54.3  46.4271  56.1977   \n",
       "1963      47381  沖縄県      竹富町       3998         12.0  43.6946  62.5538   \n",
       "1964      47382  沖縄県     与那国町       1843         63.6  45.6183  68.9636   \n",
       "\n",
       "         高齢化率 都道府県コード 市町村コード  \n",
       "0     26.6358      00    000  \n",
       "1      29.088      01    000  \n",
       "2     24.9236      01    100  \n",
       "3     21.5164      01    101  \n",
       "4     24.5561      01    102  \n",
       "...       ...     ...    ...  \n",
       "1960  26.4945      47    361  \n",
       "1961  19.3869      47    362  \n",
       "1962  26.3819      47    375  \n",
       "1963  20.2179      47    381  \n",
       "1964  18.5024      47    382  \n",
       "\n",
       "[1965 rows x 10 columns]"
      ],
      "text/html": "<div>\n<style scoped>\n    .dataframe tbody tr th:only-of-type {\n        vertical-align: middle;\n    }\n\n    .dataframe tbody tr th {\n        vertical-align: top;\n    }\n\n    .dataframe thead th {\n        text-align: right;\n    }\n</style>\n<table border=\"1\" class=\"dataframe\">\n  <thead>\n    <tr style=\"text-align: right;\">\n      <th></th>\n      <th>都道府県市町村コード</th>\n      <th>都道府県</th>\n      <th>市町村</th>\n      <th>人口</th>\n      <th>人口密度（人/km2）</th>\n      <th>平均年齢</th>\n      <th>生産人口割合</th>\n      <th>高齢化率</th>\n      <th>都道府県コード</th>\n      <th>市町村コード</th>\n    </tr>\n  </thead>\n  <tbody>\n    <tr>\n      <th>0</th>\n      <td>00000</td>\n      <td>全国</td>\n      <td>全国</td>\n      <td>127094745</td>\n      <td>340.8</td>\n      <td>46.3979</td>\n      <td>60.7196</td>\n      <td>26.6358</td>\n      <td>00</td>\n      <td>000</td>\n    </tr>\n    <tr>\n      <th>1</th>\n      <td>01000</td>\n      <td>北海道</td>\n      <td>北海道</td>\n      <td>5381733</td>\n      <td>68.6</td>\n      <td>48.2688</td>\n      <td>59.5578</td>\n      <td>29.088</td>\n      <td>01</td>\n      <td>000</td>\n    </tr>\n    <tr>\n      <th>2</th>\n      <td>01100</td>\n      <td>北海道</td>\n      <td>札幌市</td>\n      <td>1952356</td>\n      <td>1741.2</td>\n      <td>46.2126</td>\n      <td>63.6843</td>\n      <td>24.9236</td>\n      <td>01</td>\n      <td>100</td>\n    </tr>\n    <tr>\n      <th>3</th>\n      <td>01101</td>\n      <td>北海道</td>\n      <td>札幌市 中央区</td>\n      <td>237627</td>\n      <td>5119.1</td>\n      <td>44.9858</td>\n      <td>68.2665</td>\n      <td>21.5164</td>\n      <td>01</td>\n      <td>101</td>\n    </tr>\n    <tr>\n      <th>4</th>\n      <td>01102</td>\n      <td>北海道</td>\n      <td>札幌市 北区</td>\n      <td>285321</td>\n      <td>4488.3</td>\n      <td>45.6165</td>\n      <td>63.7227</td>\n      <td>24.5561</td>\n      <td>01</td>\n      <td>102</td>\n    </tr>\n    <tr>\n      <th>...</th>\n      <td>...</td>\n      <td>...</td>\n      <td>...</td>\n      <td>...</td>\n      <td>...</td>\n      <td>...</td>\n      <td>...</td>\n      <td>...</td>\n      <td>...</td>\n      <td>...</td>\n    </tr>\n    <tr>\n      <th>1960</th>\n      <td>47361</td>\n      <td>沖縄県</td>\n      <td>久米島町</td>\n      <td>7755</td>\n      <td>121.8</td>\n      <td>47.2796</td>\n      <td>57.7792</td>\n      <td>26.4945</td>\n      <td>47</td>\n      <td>361</td>\n    </tr>\n    <tr>\n      <th>1961</th>\n      <td>47362</td>\n      <td>沖縄県</td>\n      <td>八重瀬町</td>\n      <td>29066</td>\n      <td>1078.1</td>\n      <td>41.686</td>\n      <td>62.2456</td>\n      <td>19.3869</td>\n      <td>47</td>\n      <td>362</td>\n    </tr>\n    <tr>\n      <th>1962</th>\n      <td>47375</td>\n      <td>沖縄県</td>\n      <td>多良間村</td>\n      <td>1194</td>\n      <td>54.3</td>\n      <td>46.4271</td>\n      <td>56.1977</td>\n      <td>26.3819</td>\n      <td>47</td>\n      <td>375</td>\n    </tr>\n    <tr>\n      <th>1963</th>\n      <td>47381</td>\n      <td>沖縄県</td>\n      <td>竹富町</td>\n      <td>3998</td>\n      <td>12.0</td>\n      <td>43.6946</td>\n      <td>62.5538</td>\n      <td>20.2179</td>\n      <td>47</td>\n      <td>381</td>\n    </tr>\n    <tr>\n      <th>1964</th>\n      <td>47382</td>\n      <td>沖縄県</td>\n      <td>与那国町</td>\n      <td>1843</td>\n      <td>63.6</td>\n      <td>45.6183</td>\n      <td>68.9636</td>\n      <td>18.5024</td>\n      <td>47</td>\n      <td>382</td>\n    </tr>\n  </tbody>\n</table>\n<p>1965 rows × 10 columns</p>\n</div>"
     },
     "metadata": {},
     "execution_count": 6
    }
   ],
   "source": [
    "# 都道府県市町村コードから都道府県コードと市町村コードに分離する。\n",
    "df_2=df.assign(都道府県コード=df['都道府県市町村コード'].str[0:2])\n",
    "df_2=df_2.assign(市町村コード=df_2['都道府県市町村コード'].str[2:])\n",
    "df_2"
   ]
  },
  {
   "cell_type": "code",
   "execution_count": 14,
   "metadata": {},
   "outputs": [
    {
     "output_type": "execute_result",
     "data": {
      "text/plain": [
       "    都道府県コード 都道府県       人口  人口密度（人/km2）     平均年齢   生産人口割合     高齢化率\n",
       "1        01  北海道  5381733         68.6  48.2688  59.5578   29.088\n",
       "191      02  青森県  1308265        135.6  49.0147  58.4316  30.1415\n",
       "232      03  岩手県  1279594         83.8  48.9889  57.7536  30.3802\n",
       "266      04  宮城県  2333899        320.5  46.2325  61.7326  25.7484\n",
       "307      05  秋田県  1023119         87.9  51.2719  55.7115  33.8368"
      ],
      "text/html": "<div>\n<style scoped>\n    .dataframe tbody tr th:only-of-type {\n        vertical-align: middle;\n    }\n\n    .dataframe tbody tr th {\n        vertical-align: top;\n    }\n\n    .dataframe thead th {\n        text-align: right;\n    }\n</style>\n<table border=\"1\" class=\"dataframe\">\n  <thead>\n    <tr style=\"text-align: right;\">\n      <th></th>\n      <th>都道府県コード</th>\n      <th>都道府県</th>\n      <th>人口</th>\n      <th>人口密度（人/km2）</th>\n      <th>平均年齢</th>\n      <th>生産人口割合</th>\n      <th>高齢化率</th>\n    </tr>\n  </thead>\n  <tbody>\n    <tr>\n      <th>1</th>\n      <td>01</td>\n      <td>北海道</td>\n      <td>5381733</td>\n      <td>68.6</td>\n      <td>48.2688</td>\n      <td>59.5578</td>\n      <td>29.088</td>\n    </tr>\n    <tr>\n      <th>191</th>\n      <td>02</td>\n      <td>青森県</td>\n      <td>1308265</td>\n      <td>135.6</td>\n      <td>49.0147</td>\n      <td>58.4316</td>\n      <td>30.1415</td>\n    </tr>\n    <tr>\n      <th>232</th>\n      <td>03</td>\n      <td>岩手県</td>\n      <td>1279594</td>\n      <td>83.8</td>\n      <td>48.9889</td>\n      <td>57.7536</td>\n      <td>30.3802</td>\n    </tr>\n    <tr>\n      <th>266</th>\n      <td>04</td>\n      <td>宮城県</td>\n      <td>2333899</td>\n      <td>320.5</td>\n      <td>46.2325</td>\n      <td>61.7326</td>\n      <td>25.7484</td>\n    </tr>\n    <tr>\n      <th>307</th>\n      <td>05</td>\n      <td>秋田県</td>\n      <td>1023119</td>\n      <td>87.9</td>\n      <td>51.2719</td>\n      <td>55.7115</td>\n      <td>33.8368</td>\n    </tr>\n  </tbody>\n</table>\n</div>"
     },
     "metadata": {},
     "execution_count": 14
    }
   ],
   "source": [
    "# 都道府県別の加工\n",
    "df_3=df_2.copy()\n",
    "df_3=df_3[(df_3['市町村コード']=='000') & ~(df_3['都道府県コード']=='00') ]\n",
    "df_3=df_3[['都道府県コード','都道府県','人口','人口密度（人/km2）','平均年齢','生産人口割合','高齢化率']]\n",
    "df_3.head()"
   ]
  },
  {
   "cell_type": "code",
   "execution_count": null,
   "metadata": {},
   "outputs": [],
   "source": [
    "# 都道府県別のデータをCSVファイルに出力\n",
    "df_3.to_csv(\n",
    "    'PBL_census_by_pref.csv',\n",
    "    index=False,\n",
    "    header=True, # 列名を出力する\n",
    "    sep=',',  #csvファイルなので区切り文字はカンマ\n",
    ")"
   ]
  },
  {
   "cell_type": "code",
   "execution_count": 15,
   "metadata": {},
   "outputs": [
    {
     "output_type": "execute_result",
     "data": {
      "text/plain": [
       "  都道府県市町村コード 都道府県コード 市町村コード       人口  人口密度（人/km2）     平均年齢   生産人口割合     高齢化率\n",
       "2      01100      01    100  1952356       1741.2  46.2126  63.6843  24.9236\n",
       "3      01101      01    101   237627       5119.1  44.9858  68.2665  21.5164\n",
       "4      01102      01    102   285321       4488.3  45.6165  63.7227  24.5561\n",
       "5      01103      01    103   261912       4597.4   45.277  64.6157  23.5916\n",
       "6      01104      01    104   209584       6080.2  45.2999  65.6973  22.9803"
      ],
      "text/html": "<div>\n<style scoped>\n    .dataframe tbody tr th:only-of-type {\n        vertical-align: middle;\n    }\n\n    .dataframe tbody tr th {\n        vertical-align: top;\n    }\n\n    .dataframe thead th {\n        text-align: right;\n    }\n</style>\n<table border=\"1\" class=\"dataframe\">\n  <thead>\n    <tr style=\"text-align: right;\">\n      <th></th>\n      <th>都道府県市町村コード</th>\n      <th>都道府県コード</th>\n      <th>市町村コード</th>\n      <th>人口</th>\n      <th>人口密度（人/km2）</th>\n      <th>平均年齢</th>\n      <th>生産人口割合</th>\n      <th>高齢化率</th>\n    </tr>\n  </thead>\n  <tbody>\n    <tr>\n      <th>2</th>\n      <td>01100</td>\n      <td>01</td>\n      <td>100</td>\n      <td>1952356</td>\n      <td>1741.2</td>\n      <td>46.2126</td>\n      <td>63.6843</td>\n      <td>24.9236</td>\n    </tr>\n    <tr>\n      <th>3</th>\n      <td>01101</td>\n      <td>01</td>\n      <td>101</td>\n      <td>237627</td>\n      <td>5119.1</td>\n      <td>44.9858</td>\n      <td>68.2665</td>\n      <td>21.5164</td>\n    </tr>\n    <tr>\n      <th>4</th>\n      <td>01102</td>\n      <td>01</td>\n      <td>102</td>\n      <td>285321</td>\n      <td>4488.3</td>\n      <td>45.6165</td>\n      <td>63.7227</td>\n      <td>24.5561</td>\n    </tr>\n    <tr>\n      <th>5</th>\n      <td>01103</td>\n      <td>01</td>\n      <td>103</td>\n      <td>261912</td>\n      <td>4597.4</td>\n      <td>45.277</td>\n      <td>64.6157</td>\n      <td>23.5916</td>\n    </tr>\n    <tr>\n      <th>6</th>\n      <td>01104</td>\n      <td>01</td>\n      <td>104</td>\n      <td>209584</td>\n      <td>6080.2</td>\n      <td>45.2999</td>\n      <td>65.6973</td>\n      <td>22.9803</td>\n    </tr>\n  </tbody>\n</table>\n</div>"
     },
     "metadata": {},
     "execution_count": 15
    }
   ],
   "source": [
    "# 市町村のデータ加工\n",
    "df_4=df_2.copy()\n",
    "# サマリに該当する市町村コード000と人口=0を除外\n",
    "df_4=df_4[~(df_4['市町村コード']=='000')& ~(df_4['人口']==0)]\n",
    "df_4=df_4[['都道府県市町村コード','都道府県コード','市町村コード','人口','人口密度（人/km2）','平均年齢','生産人口割合','高齢化率']]\n",
    "df_4.head()"
   ]
  },
  {
   "cell_type": "code",
   "execution_count": 47,
   "metadata": {},
   "outputs": [],
   "source": [
    "# 市区町村別のデータをCSVファイルに出力\n",
    "df_4.to_csv(\n",
    "    'PBL_census_by_city.csv',\n",
    "    index=False,\n",
    "    header=True, # 列名を出力する\n",
    "    sep=',',  #csvファイルなので区切り文字はカンマ\n",
    ")\n"
   ]
  }
 ],
 "metadata": {
  "kernelspec": {
   "display_name": "Python 3",
   "language": "python",
   "name": "python3"
  },
  "language_info": {
   "codemirror_mode": {
    "name": "ipython",
    "version": 3
   },
   "file_extension": ".py",
   "mimetype": "text/x-python",
   "name": "python",
   "nbconvert_exporter": "python",
   "pygments_lexer": "ipython3",
   "version": "3.8.5-final"
  }
 },
 "nbformat": 4,
 "nbformat_minor": 4
}