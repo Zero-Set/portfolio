{
 "cells": [
  {
   "source": [
    "## 日次データを取り扱うノートブック\n",
    "- 日次データを扱う必要があったため、処理を整理してここに展開する。"
   ],
   "cell_type": "markdown",
   "metadata": {}
  },
  {
   "cell_type": "code",
   "execution_count": 1,
   "metadata": {},
   "outputs": [],
   "source": [
    "class TreatDaily():\n",
    "    # 閏年かどうかチェック\n",
    "    def is_leapyear(self,year,month):\n",
    "        # 100で割り切れる場合は400で割り切れる場合だけ平年\n",
    "        return (month == 2) and (year % 4 == 0 and (not (year % 100 == 0 and year % 400 == 0))) \n",
    "\n",
    "    # 2,4,6,9,11月はTrue、そうでなければFalseを返す。\n",
    "    def is_small_month(self,month):\n",
    "        return month in [2,4,6,9,11]\n",
    "\n",
    "\n"
   ]
  },
  {
   "cell_type": "code",
   "execution_count": 3,
   "metadata": {},
   "outputs": [
    {
     "output_type": "stream",
     "name": "stderr",
     "text": [
      "......\n",
      "----------------------------------------------------------------------\n",
      "Ran 6 tests in 0.026s\n",
      "\n",
      "OK\n"
     ]
    }
   ],
   "source": [
    "import unittest\n",
    "\n",
    "class TestTreatDaily(unittest.TestCase):\n",
    "    \n",
    "    # 小の月の判定\n",
    "    def test_small_month(self):\n",
    "        t = TreatDaily()\n",
    "        self.assertEqual(t.is_small_month(1),False)\n",
    "        self.assertEqual(t.is_small_month(2),True)\n",
    "        self.assertEqual(t.is_small_month(3),False)\n",
    "        self.assertEqual(t.is_small_month(4),True)\n",
    "        self.assertEqual(t.is_small_month(5),False)\n",
    "        self.assertEqual(t.is_small_month(6),True)\n",
    "        self.assertEqual(t.is_small_month(7),False)\n",
    "        self.assertEqual(t.is_small_month(8),False)\n",
    "        self.assertEqual(t.is_small_month(9),True)\n",
    "        self.assertEqual(t.is_small_month(10),False)\n",
    "        self.assertEqual(t.is_small_month(11),True)\n",
    "        self.assertEqual(t.is_small_month(12),False)\n",
    "    \n",
    "    # \"class TestCase([methodName])\"\n",
    "    # ...\n",
    "    # \"TBD:Test Description\"\n",
    "    def test_normal_not_feburary(self):\n",
    "        t = TreatDaily()\n",
    "        self.assertEqual(t.is_leapyear(2020,1), False)\n",
    "        self.assertEqual(t.is_leapyear(2020,3), False)\n",
    "        self.assertEqual(t.is_leapyear(2020,4), False)\n",
    "        self.assertEqual(t.is_leapyear(2020,5), False)\n",
    "        self.assertEqual(t.is_leapyear(2020,6), False)\n",
    "        self.assertEqual(t.is_leapyear(2020,7), False)\n",
    "        self.assertEqual(t.is_leapyear(2020,8), False)\n",
    "        self.assertEqual(t.is_leapyear(2020,9), False)\n",
    "        self.assertEqual(t.is_leapyear(2020,10), False)\n",
    "        self.assertEqual(t.is_leapyear(2020,11), False)\n",
    "        self.assertEqual(t.is_leapyear(2020,12), False)\n",
    "\n",
    "    def test_normal_leap(self):\n",
    "        t = TreatDaily()\n",
    "        self.assertEqual(t.is_leapyear(2020,2), True)\n",
    "\n",
    "    def test_normal_not_leap(self):\n",
    "        t = TreatDaily()\n",
    "        self.assertEqual(t.is_leapyear(2021,2), False)\n",
    "\n",
    "    def test_special_leap(self):\n",
    "        t = TreatDaily()\n",
    "        self.assertEqual(t.is_leapyear(100,2), True)\n",
    "\n",
    "    def test_special_not_leap(self):\n",
    "        t = TreatDaily()\n",
    "        self.assertEqual(t.is_leapyear(2000,2), False)\n",
    "\n",
    "# 単体テスト実行\n",
    "if __name__ == '__main__':\n",
    "    unittest.main(argv=['first-arg-is-ignored'],exit=False)"
   ]
  }
 ],
 "metadata": {
  "kernelspec": {
   "display_name": "Python 3",
   "language": "python",
   "name": "python3"
  },
  "language_info": {
   "codemirror_mode": {
    "name": "ipython",
    "version": 3
   },
   "file_extension": ".py",
   "mimetype": "text/x-python",
   "name": "python",
   "nbconvert_exporter": "python",
   "pygments_lexer": "ipython3",
   "version": "3.8.5-final"
  }
 },
 "nbformat": 4,
 "nbformat_minor": 4
}