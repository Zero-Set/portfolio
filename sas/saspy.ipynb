{
 "cells": [
  {
   "cell_type": "markdown",
   "id": "instant-funeral",
   "metadata": {},
   "source": [
    "# saspy"
   ]
  },
  {
   "cell_type": "markdown",
   "id": "worst-dinner",
   "metadata": {},
   "source": [
    "## 実行環境\n",
    "- Windows\n",
    "- Anaconda\n",
    "\n",
    "### 補足\n",
    "- `conda install -c anaconda sas7bdat`"
   ]
  },
  {
   "cell_type": "code",
   "execution_count": 3,
   "id": "underlying-madness",
   "metadata": {},
   "outputs": [],
   "source": [
    "#ライブラリ読み込み\n",
    "import saspy\n",
    "import pandas as pd\n",
    "\n",
    "# 実行環境Anacondaのため、`conda installコマンドで入れる。\n",
    "from sas7bdat import SAS7BDAT"
   ]
  },
  {
   "cell_type": "code",
   "execution_count": null,
   "id": "increased-corpus",
   "metadata": {},
   "outputs": [],
   "source": [
    "saspy.SAScfg"
   ]
  },
  {
   "cell_type": "markdown",
   "id": "south-graph",
   "metadata": {},
   "source": [
    "winlocalを使用してSASセッションを開始する。"
   ]
  },
  {
   "cell_type": "code",
   "execution_count": 4,
   "id": "affected-workplace",
   "metadata": {},
   "outputs": [
    {
     "name": "stdout",
     "output_type": "stream",
     "text": [
      "Using SAS Config named: winlocal\n",
      "SAS Connection established. Subprocess id is 34640\n",
      "\n",
      "The encoding value provided doesn't match the SAS session encoding.\n",
      "SAS encoding is shift-jis. Specified encoding is windows-1252.\n",
      "Using encoding shift_jis instead to avoid transcoding problems.\n",
      "You can override this change, if you think you must, by changing the encoding attribute of the SASsession object, as follows.\n",
      "If you had 'sas = saspy.SASsession(), then submit: \"sas._io.sascfg.encoding='override_encoding'\" to change it.\n",
      "\n"
     ]
    }
   ],
   "source": [
    "sas = saspy.SASsession()"
   ]
  },
  {
   "cell_type": "markdown",
   "id": "coral-crystal",
   "metadata": {},
   "source": [
    "## 参考文献\n",
    "- https://sassoftware.github.io/saspy/index.html"
   ]
  },
  {
   "cell_type": "code",
   "execution_count": null,
   "id": "hazardous-luxembourg",
   "metadata": {},
   "outputs": [],
   "source": []
  }
 ],
 "metadata": {
  "kernelspec": {
   "display_name": "Python 3",
   "language": "python",
   "name": "python3"
  },
  "language_info": {
   "codemirror_mode": {
    "name": "ipython",
    "version": 3
   },
   "file_extension": ".py",
   "mimetype": "text/x-python",
   "name": "python",
   "nbconvert_exporter": "python",
   "pygments_lexer": "ipython3",
   "version": "3.8.8"
  }
 },
 "nbformat": 4,
 "nbformat_minor": 5
}
